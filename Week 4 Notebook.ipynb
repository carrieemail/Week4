{
    "cells": [
        {
            "metadata": {
                "collapsed": true
            },
            "cell_type": "markdown",
            "source": "<h1>My Jupyter Notebook on IBM Watson Studio</h1>"
        },
        {
            "metadata": {},
            "cell_type": "markdown",
            "source": "<b>Carrie Driscoll</b><br>\nProduct Owner"
        },
        {
            "metadata": {},
            "cell_type": "markdown",
            "source": "<i>I am interested in data science because it is adjacent to what I already do, but has more growth potential and is more interesting.</i>"
        },
        {
            "metadata": {},
            "cell_type": "markdown",
            "source": "<h3>The line below is going to show the percent change between 95 and 142.</h3>"
        },
        {
            "metadata": {},
            "cell_type": "code",
            "source": "x = ((142-95)/95)\nprint(\"{:.2%}\".format(x));",
            "execution_count": 10,
            "outputs": [
                {
                    "output_type": "stream",
                    "text": "49.47%\n",
                    "name": "stdout"
                }
            ]
        },
        {
            "metadata": {},
            "cell_type": "markdown",
            "source": "<hr>\nHere is the source data:\n<br>\n    \n| Original Value | New Value |\n| ------ | ------ |\n| 95 | 142 |\n\n<br>\nAnd here is the calculation: <span style=\"background-color:yellow\">((142-95)/95)</span>",
            "attachments": {}
        },
        {
            "metadata": {},
            "cell_type": "code",
            "source": "",
            "execution_count": null,
            "outputs": []
        }
    ],
    "metadata": {
        "kernelspec": {
            "name": "python3",
            "display_name": "Python 3.9",
            "language": "python"
        },
        "language_info": {
            "name": "python",
            "version": "3.9.12",
            "mimetype": "text/x-python",
            "codemirror_mode": {
                "name": "ipython",
                "version": 3
            },
            "pygments_lexer": "ipython3",
            "nbconvert_exporter": "python",
            "file_extension": ".py"
        }
    },
    "nbformat": 4,
    "nbformat_minor": 1
}